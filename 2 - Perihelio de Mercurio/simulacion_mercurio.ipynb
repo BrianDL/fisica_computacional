{
  "cells": [
    {
      "cell_type": "markdown",
      "metadata": {
        "id": "view-in-github",
        "colab_type": "text"
      },
      "source": [
        "<a href=\"https://colab.research.google.com/github/BrianDL/fisica_computacional/blob/main/2%20-%20Perihelio%20de%20Mercurio/simulacion_mercurio.ipynb\" target=\"_parent\"><img src=\"https://colab.research.google.com/assets/colab-badge.svg\" alt=\"Open In Colab\"/></a>"
      ]
    },
    {
      "cell_type": "markdown",
      "metadata": {
        "id": "lJ2jgJfjNHZd"
      },
      "source": [
        "# Simulación de la Órbita de Mercurio\n",
        "\n",
        "Este notebook contiene la implementación del método de Runge-Kutta de segundo orden (RK2) para simular la órbita de Mercurio y calcular la precesión de su perihelio.\n"
      ]
    },
    {
      "cell_type": "code",
      "execution_count": 1,
      "metadata": {
        "id": "71ba2AwdNHZh"
      },
      "outputs": [],
      "source": [
        "import numpy as np\n",
        "import matplotlib.pyplot as plt\n",
        "\n",
        "def simular_orbita_mercurio(\n",
        "        x_inicial:float = None,  ### hacemos esta configuración más abajo\n",
        "        y_inicial:float = 0,\n",
        "        vx_inicial:float = 0,\n",
        "        vy_inicial:float = None, ### hacemos esta configuración más abajo\n",
        "        iteraciones:int = 20000,\n",
        "        delta_t: float = 0.0001,\n",
        "        alpha: float = 0.0008\n",
        "    ):\n",
        "\n",
        "    ### Configurando los valores iniciales por defecto\n",
        "    # Constantes\n",
        "    G = 6.67430e-11  # Constante gravitacional (m^3 kg^-1 s^-2)\n",
        "    M_s = 1.989e30   # Masa del Sol (kg)\n",
        "\n",
        "    a = 0.39\n",
        "    e = 0.206\n",
        "\n",
        "    # Inicializar variables\n",
        "    x = x_inicial if x_inicial else (1+e)*a\n",
        "    y = y_inicial\n",
        "    vx = vx_inicial\n",
        "    vy = vy_inicial if vy_inicial else np.sqrt( G*M_s*(1-e)/( a*(1+e) ) )\n",
        "    t = 0  # Tiempo inicial siempre igual cero\n",
        "\n",
        "    # Listas para almacenar resultados\n",
        "    tiempos = [t]\n",
        "    posiciones = [(x, y)]\n",
        "    velocidades = [(vx, vy)]\n",
        "\n",
        "    # Bucle principal de la simulación\n",
        "    for i in range(iteraciones):\n",
        "        # Calcular variables radiales\n",
        "        r = np.sqrt(x**2 + y**2)\n",
        "        v = np.sqrt(vx**2 + vy**2)\n",
        "\n",
        "        # Calcular los valores intermedios (k1)\n",
        "        k1_x = delta_t * vx\n",
        "        k1_y = delta_t * vy\n",
        "        k1_vx = delta_t * (-G * M_s * x / r**3) * (1 + alpha / r**2)\n",
        "        k1_vy = delta_t * (-G * M_s * y / r**3) * (1 + alpha / r**2)\n",
        "\n",
        "        # Calcular los valores finales (k2)\n",
        "        x_mid = x + k1_x/2\n",
        "        y_mid = y + k1_y/2\n",
        "        vx_mid = vx + k1_vx/2\n",
        "        vy_mid = vy + k1_vy/2\n",
        "        r_mid = np.sqrt(x_mid**2 + y_mid**2)\n",
        "\n",
        "        k2_x = delta_t * vx_mid\n",
        "        k2_y = delta_t * vy_mid\n",
        "        k2_vx = delta_t * (-G * M_s * x_mid / r_mid**3) * (1 + alpha / r_mid**2)\n",
        "        k2_vy = delta_t * (-G * M_s * y_mid / r_mid**3) * (1 + alpha / r_mid**2)\n",
        "\n",
        "        # Actualizar los valores para el siguiente paso\n",
        "        x += k2_x\n",
        "        y += k2_y\n",
        "        vx += k2_vx\n",
        "        vy += k2_vy\n",
        "        t += delta_t\n",
        "\n",
        "        # Guardar los resultados en cada paso\n",
        "        tiempos.append(t)\n",
        "        posiciones.append((x, y))\n",
        "        velocidades.append((vx, vy))\n",
        "\n",
        "    return tiempos, posiciones, velocidades"
      ]
    },
    {
      "cell_type": "markdown",
      "metadata": {
        "id": "OgqyoULtNHZo"
      },
      "source": [
        "Esta función `simular_orbita_mercurio` implementa el método RK2 para simular la órbita de Mercurio. En las siguientes celdas, añadiremos código para ejecutar la simulación, visualizar los resultados y calcular la precesión del perihelio."
      ]
    },
    {
      "cell_type": "code",
      "source": [
        "import math\n",
        "\n",
        "def calcular_precesion(alpha):\n",
        "    # Ejecutar la simulación\n",
        "    tiempos, posiciones, velocidades = simular_orbita_mercurio(\n",
        "        alpha=alpha\n",
        "    )\n",
        "\n",
        "    # Encontrar los perihelios\n",
        "    distancias = [math.sqrt(x**2 + y**2) for x, y in posiciones]\n",
        "    perihelios = []\n",
        "    for i in range(1, len(distancias) - 1):\n",
        "        if distancias[i] < distancias[i-1] and distancias[i] < distancias[i+1]:\n",
        "            perihelios.append(i)\n",
        "\n",
        "    # Calcular los ángulos de los perihelios\n",
        "    angulos_perihelio = []\n",
        "    for i in perihelios:\n",
        "        x, y = posiciones[i]\n",
        "        angulo = math.atan2(y, x)\n",
        "        if angulo < 0:\n",
        "            angulo += 2 * math.pi\n",
        "        angulos_perihelio.append(angulo)\n",
        "\n",
        "    # Calcular la precesión\n",
        "    precesiones = []\n",
        "    for i in range(1, len(angulos_perihelio)):\n",
        "        precesion = angulos_perihelio[i] - angulos_perihelio[i-1]\n",
        "        if precesion < 0:\n",
        "            precesion += 2 * math.pi\n",
        "        precesiones.append(precesion)\n",
        "\n",
        "    # Calcular la precesión promedio por órbita\n",
        "    precesion_promedio = sum(precesiones) / len(precesiones)\n",
        "\n",
        "    # Convertir la precesión a segundos de arco por siglo\n",
        "    periodo_orbital_mercurio = 87.97 * 24 * 3600  # en segundos\n",
        "    orbitas_por_siglo = (100 * 365.25 * 24 * 3600) / periodo_orbital_mercurio\n",
        "    precesion_por_siglo = precesion_promedio * orbitas_por_siglo\n",
        "    precesion_segundos_arco = precesion_por_siglo * 180 / math.pi * 3600\n",
        "\n",
        "    return precesion_segundos_arco\n",
        "\n",
        "# Ejemplo de uso\n",
        "alpha_test = 0.0008\n",
        "precesion = calcular_precesion(alpha_test)\n",
        "print(f\"Para alpha = {alpha_test}, la precesión es de {precesion:.2f} segundos de arco por siglo.\")"
      ],
      "metadata": {
        "id": "KcJfLyWGazXN"
      },
      "execution_count": null,
      "outputs": []
    }
  ],
  "metadata": {
    "kernelspec": {
      "display_name": "Python 3",
      "language": "python",
      "name": "python3"
    },
    "language_info": {
      "codemirror_mode": {
        "name": "ipython",
        "version": 3
      },
      "file_extension": ".py",
      "mimetype": "text/x-python",
      "name": "python",
      "nbconvert_exporter": "python",
      "pygments_lexer": "ipython3",
      "version": "3.12.7"
    },
    "colab": {
      "provenance": [],
      "include_colab_link": true
    }
  },
  "nbformat": 4,
  "nbformat_minor": 0
}
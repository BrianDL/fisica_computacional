{
 "cells": [
  {
   "cell_type": "markdown",
   "metadata": {},
   "source": [
    "# Simulación de la Órbita de Mercurio\n",
    "\n",
    "Este notebook contiene la implementación del método de Runge-Kutta de segundo orden (RK2) para simular la órbita de Mercurio y calcular la precesión de su perihelio.\n"
   ]
  },
  {
   "cell_type": "code",
   "execution_count": null,
   "metadata": {},
   "outputs": [
    {
     "ename": "",
     "evalue": "",
     "output_type": "error",
     "traceback": [
      "\u001b[1;31mRunning cells with 'Python 3.12.7' requires the ipykernel package.\n",
      "\u001b[1;31mRun the following command to install 'ipykernel' into the Python environment. \n",
      "\u001b[1;31mCommand: '/bin/python -m pip install ipykernel -U --user --force-reinstall'"
     ]
    }
   ],
   "source": [
    "import numpy as np\n",
    "import matplotlib.pyplot as plt\n",
    "\n",
    "def simular_orbita_mercurio(\n",
    "        x_inicial,\n",
    "        y_inicial,\n",
    "        vx_inicial,\n",
    "        vy_inicial,\n",
    "        tiempo_total,\n",
    "        delta_t,\n",
    "        alpha = 0.0008\n",
    "    ):\n",
    "    # Inicializar variables\n",
    "    x = x_inicial\n",
    "    y = y_inicial\n",
    "    vx = vx_inicial\n",
    "    vy = vy_inicial\n",
    "    t = 0  # Tiempo inicial\n",
    "\n",
    "    # Constantes\n",
    "    G = 6.67430e-11  # Constante gravitacional (m^3 kg^-1 s^-2)\n",
    "    M_s = 1.989e30   # Masa del Sol (kg)\n",
    "\n",
    "    # Listas para almacenar resultados\n",
    "    tiempos = [t]\n",
    "    posiciones = [(x, y)]\n",
    "    velocidades = [(vx, vy)]\n",
    "\n",
    "    # Bucle principal de la simulación\n",
    "    while t < tiempo_total:\n",
    "        # Calcular variables radiales\n",
    "        r = np.sqrt(x**2 + y**2)\n",
    "        v = np.sqrt(vx**2 + vy**2)\n",
    "        \n",
    "        # Calcular los valores intermedios (k1)\n",
    "        k1_x = delta_t * vx\n",
    "        k1_y = delta_t * vy\n",
    "        k1_vx = delta_t * (-G * M_s * x / r**3) * (1 + alpha / r**2)\n",
    "        k1_vy = delta_t * (-G * M_s * y / r**3) * (1 + alpha / r**2)\n",
    "\n",
    "        # Calcular los valores finales (k2)\n",
    "        x_mid = x + k1_x/2\n",
    "        y_mid = y + k1_y/2\n",
    "        vx_mid = vx + k1_vx/2\n",
    "        vy_mid = vy + k1_vy/2\n",
    "        r_mid = np.sqrt(x_mid**2 + y_mid**2)\n",
    "\n",
    "        k2_x = delta_t * vx_mid\n",
    "        k2_y = delta_t * vy_mid\n",
    "        k2_vx = delta_t * (-G * M_s * x_mid / r_mid**3) * (1 + alpha / r_mid**2)\n",
    "        k2_vy = delta_t * (-G * M_s * y_mid / r_mid**3) * (1 + alpha / r_mid**2)\n",
    "\n",
    "        # Actualizar los valores para el siguiente paso\n",
    "        x += k2_x\n",
    "        y += k2_y\n",
    "        vx += k2_vx\n",
    "        vy += k2_vy\n",
    "        t += delta_t\n",
    "\n",
    "        # Guardar los resultados en cada paso\n",
    "        tiempos.append(t)\n",
    "        posiciones.append((x, y))\n",
    "        velocidades.append((vx, vy))\n",
    "\n",
    "    return tiempos, posiciones, velocidades"
   ]
  },
  {
   "cell_type": "markdown",
   "metadata": {},
   "source": [
    "Esta función `simular_orbita_mercurio` implementa el método RK2 para simular la órbita de Mercurio. En las siguientes celdas, añadiremos código para ejecutar la simulación, visualizar los resultados y calcular la precesión del perihelio."
   ]
  }
 ],
 "metadata": {
  "kernelspec": {
   "display_name": "Python 3",
   "language": "python",
   "name": "python3"
  },
  "language_info": {
   "codemirror_mode": {
    "name": "ipython",
    "version": 3
   },
   "file_extension": ".py",
   "mimetype": "text/x-python",
   "name": "python",
   "nbconvert_exporter": "python",
   "pygments_lexer": "ipython3",
   "version": "3.12.7"
  }
 },
 "nbformat": 4,
 "nbformat_minor": 4
}
